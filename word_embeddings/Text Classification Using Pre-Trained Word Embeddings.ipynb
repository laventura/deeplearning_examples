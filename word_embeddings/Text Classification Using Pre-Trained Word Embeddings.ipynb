{
 "cells": [
  {
   "cell_type": "markdown",
   "metadata": {},
   "source": [
    "# Text Classification Using Word Embeddings\n",
    "\n",
    "In this notebook, we'll use **pre trained word embeddings** to classify text.\n",
    "#### Word Embeddings - from GloVe\n",
    "\n",
    "\"Word embeddings\" are a family of natural language processing techniques aiming at mapping semantic meaning into a geometric space. This is done by associating a numeric vector to every word in a dictionary, such that the distance (e.g. L2 distance or more commonly cosine distance) between any two vectors would capture part of the semantic relationship between the two associated words. The geometric space formed by these vectors is called an embedding space.\n",
    "\n",
    "The embeddings themselves can be visualized by a method known at t-SNE. More on t-SNE here: [link]\n",
    "\n",
    "- http://nlp.stanford.edu/projects/glove/\n",
    "- GloVe stands for \"Global Vectors for Word Representation\". It's a somewhat popular embedding technique based on factorizing a matrix of word co-occurence statistics.\n",
    "- Specifically, we will use the 100-dimensional GloVe embeddings of 400k words computed on a 2014 dump of English Wikipedia. You can download them here (warning: following this link will start a 822MB download).\n",
    "\n",
    "\n",
    "#### Dataset: 20 Newsgroup CMU dataset\n",
    "\n",
    "- http://www.cs.cmu.edu/afs/cs.cmu.edu/project/theo-20/www/data/news20.html\n",
    "- Has 20 news groups (topics), each with XYZ files\n",
    "\n",
    "#### Approach\n",
    "\n",
    "Here's how to solve the text classification problem.\n",
    "\n",
    "- convert all text samples in the dataset to sequences of word indices. A **word index** is simply an integer ID for a given word. We only consider the top 20,000 most commonly occuring words in the dataset, and will truncate the sequences to a max len of 1000 words.\n",
    "- prepare an **embedding matrix**, which has at index i the **embedding vector** for the word at index i\n",
    "- load this embedding matrix into a Keras `Embedding` layer, and _freeze_ it (i.e. its weights, embdeeing vectors will not update during training)\n",
    "- build on top of it a **1D convolutional net** ending with a _softmax_ output over the 20 news categories\n",
    "\n",
    "\n",
    "#### Acknowledgments:\n",
    "\n",
    "* This notebook is based on Keras blog post: https://blog.keras.io/using-pre-trained-word-embeddings-in-a-keras-model.html\n",
    "\n"
   ]
  },
  {
   "cell_type": "code",
   "execution_count": 5,
   "metadata": {
    "collapsed": false
   },
   "outputs": [
    {
     "name": "stderr",
     "output_type": "stream",
     "text": [
      "Using TensorFlow backend.\n"
     ]
    }
   ],
   "source": [
    "from __future__ import print_function\n",
    "import os\n",
    "import numpy as np\n",
    "np.random.seed(1337)\n",
    "\n",
    "import matplotlib.pyplot as plt\n",
    "%matplotlib inline\n",
    "\n",
    "import tensorflow as tf\n",
    "import keras"
   ]
  },
  {
   "cell_type": "code",
   "execution_count": 2,
   "metadata": {
    "collapsed": true
   },
   "outputs": [],
   "source": [
    "%load_ext watermark"
   ]
  },
  {
   "cell_type": "code",
   "execution_count": 6,
   "metadata": {
    "collapsed": false
   },
   "outputs": [
    {
     "name": "stdout",
     "output_type": "stream",
     "text": [
      "Atul Acharya \n",
      "last updated: 2016-12-05 \n",
      "\n",
      "CPython 3.5.2\n",
      "IPython 5.0.0\n",
      "\n",
      "numpy 1.11.2\n",
      "tensorflow 0.11.0rc2\n",
      "matplotlib 1.5.1\n",
      "keras 1.1.0\n"
     ]
    }
   ],
   "source": [
    "## Watermark\n",
    "%watermark -a 'Atul Acharya' -u -d -v -p numpy,tensorflow,matplotlib,keras"
   ]
  },
  {
   "cell_type": "code",
   "execution_count": 7,
   "metadata": {
    "collapsed": true
   },
   "outputs": [],
   "source": [
    "## Some useful defs"
   ]
  },
  {
   "cell_type": "code",
   "execution_count": 3,
   "metadata": {
    "collapsed": true
   },
   "outputs": [],
   "source": [
    "DATASET_DIR = '/Users/aa/Developer/datasets'\n",
    "GLOVE_DIR = DATASET_DIR + '/glove-word-embeddings/'   # Word embeddings dataset\n",
    "TEXT_DATA_DIR = DATASET_DIR + '/20_newsgroup/'        # 20 Newsgroup dataset"
   ]
  },
  {
   "cell_type": "code",
   "execution_count": 8,
   "metadata": {
    "collapsed": true
   },
   "outputs": [],
   "source": [
    "from keras.preprocessing.text import Tokenizer\n",
    "from keras.preprocessing.sequence import pad_sequences\n",
    "from keras.utils.np_utils import to_categorical\n",
    "from keras.layers import Dense, Input, Flatten\n",
    "from keras.layers import Conv1D, MaxPooling1D, Embedding\n",
    "from keras.models import Model\n",
    "import sys\n"
   ]
  },
  {
   "cell_type": "markdown",
   "metadata": {},
   "source": [
    "#### 1 - Build index mapping: Embedding Layer\n",
    "- map words to their embedding vectors"
   ]
  },
  {
   "cell_type": "code",
   "execution_count": 9,
   "metadata": {
    "collapsed": true
   },
   "outputs": [],
   "source": [
    "MAX_SEQUENCE_LENGTH = 1000\n",
    "MAX_NB_WORDS  = 20000\n",
    "EMBEDDING_DIM = 100\n",
    "VALIDATION_SPLIT = 0.2"
   ]
  },
  {
   "cell_type": "code",
   "execution_count": 10,
   "metadata": {
    "collapsed": false
   },
   "outputs": [
    {
     "name": "stdout",
     "output_type": "stream",
     "text": [
      "Indexing word vectors\n",
      "Found 400000 word vectors\n"
     ]
    }
   ],
   "source": [
    "print('Indexing word vectors')\n",
    "\n",
    "embeddings_index = {}\n",
    "\n",
    "with open(os.path.join(GLOVE_DIR, 'glove.6B.100d.txt')) as f:\n",
    "    for line in f:\n",
    "        values = line.split()\n",
    "        word   = values[0]\n",
    "        coeffs = np.asarray(values[1:], dtype='float32')\n",
    "        embeddings_index[word] = coeffs\n",
    "        \n",
    "print('Found %s word vectors' % len(embeddings_index))\n"
   ]
  },
  {
   "cell_type": "code",
   "execution_count": 28,
   "metadata": {
    "collapsed": false
   },
   "outputs": [
    {
     "name": "stdout",
     "output_type": "stream",
     "text": [
      "60,000-plus [ 0.11497     0.13181999 -0.036295    0.37399    -0.19670001  0.11394\n",
      " -0.15239     0.12558     0.23926     0.22567999  0.094026    0.14103\n",
      " -0.035312   -0.56836998 -0.11998    -0.25628999 -0.35617     0.18084\n",
      "  0.38212001 -0.22699    -0.15306    -0.20634    -0.38174999 -0.40114\n",
      " -0.23476    -0.27184999  0.02555     0.18644001  0.058272   -0.44304001\n",
      "  0.52873999 -0.24343     0.24151    -0.082683    0.01956     0.10489\n",
      " -0.14467999 -0.28066     0.15166     0.18826     0.63266999 -0.024391\n",
      "  0.053273    0.11065    -0.0081538   0.20677    -0.08977     0.032328\n",
      "  0.33017001  0.31505001  0.20499    -0.43628001 -0.20284    -0.56557\n",
      "  0.030779    0.60136002  0.22443999 -0.19825999  0.016973   -0.85674\n",
      "  0.18603    -0.36919001  0.34057    -0.19108    -0.46323001 -0.077863\n",
      " -0.39388001 -0.26210001 -0.026738   -0.1455      0.3549      0.39835\n",
      "  0.029413    0.25602999 -0.25029999  0.081387   -0.18223    -0.23507001\n",
      "  0.28896999  0.375      -0.22283     0.068424    0.59353    -0.57740998\n",
      "  0.041415    0.0098391   0.16683     0.12323    -0.28986999  0.39750001\n",
      "  0.13899     0.64674997  0.23373    -0.80365002  0.2931     -0.40950999\n",
      "  0.17511     0.53512001  0.0069723   0.156     ]\n",
      "shunts [ 0.41158    -0.27790001  0.0017903  -0.46110001 -0.22268     0.018884\n",
      " -0.038217    0.12728     0.22307999 -0.86927998 -0.65305001  0.076346\n",
      "  0.30790001  0.33759999  0.11704     0.21506     0.04005     0.17517\n",
      "  0.054529   -0.16929001 -0.39091     0.061721   -0.17664     0.34066001\n",
      " -0.14925    -0.37263    -0.15628     0.044631    0.037162   -0.25402001\n",
      "  0.80581999 -0.25327    -0.82966    -0.0082824  -0.09001     0.41330001\n",
      " -0.095171   -0.15101001 -0.20141999  0.40853     0.43345001  0.034368\n",
      " -0.030414   -0.53604001 -0.40277001  0.051305    0.050688    0.090743\n",
      "  0.096829    0.73763001  0.26773     0.39188001  0.47487    -0.36575001\n",
      "  0.25670999  0.57027    -0.044111   -0.21936999 -0.46898001  0.17606001\n",
      "  0.044654    0.22015999  0.60609001  0.68405998 -0.10885    -0.019264\n",
      " -0.073351   -0.32174999 -0.051442   -0.46009001 -0.090704   -0.42605001\n",
      "  0.61620998  0.78184998  0.15948001 -0.50980997  0.09493    -0.10808\n",
      "  0.67808998  0.02596     0.053301    0.15817    -0.53139001  0.57881999\n",
      "  0.25602999  0.12879001  0.36873999  0.12365    -0.32302999 -0.45868\n",
      " -0.70469999  0.21278    -0.40687001 -0.36833     0.44742    -0.71632999\n",
      "  0.31698999 -0.01911    -0.19115999 -0.14668   ]\n",
      "kreger [ 0.031198    0.010491   -0.27906999  0.16744    -0.25106999  0.084989\n",
      "  0.17011    -0.21843     0.34502    -0.14895999  0.2207     -0.094244\n",
      " -0.17542    -0.43384001  0.13163    -0.25655001 -0.54680997  0.2122\n",
      "  0.014097   -0.066069   -0.11436    -0.13534001 -0.15561    -0.26644\n",
      " -0.13986     0.040341    0.13324     0.19296999 -0.03503     0.37112001\n",
      "  0.1331     -0.34887001 -0.085035    0.040994   -0.05077    -0.34511\n",
      " -0.026427   -0.083022    0.31525999 -0.18835001  0.31586999  0.062408\n",
      " -0.45293999  0.44233999 -0.36192     0.16233    -0.14404     0.054301\n",
      "  0.075084    0.11605     0.40509999 -0.23487    -0.0024018  -0.69911999\n",
      "  0.73658001  0.46799999 -0.20314001  0.3836     -0.67883003 -0.092773\n",
      "  0.18695    -0.12817     0.42332    -0.30733001 -0.35697001 -0.16073\n",
      " -0.16068999 -0.042795   -0.18352    -0.20537999  0.30059001  0.21647\n",
      " -0.0058457   0.32545999  0.063432   -0.023926    0.43972999 -0.060669\n",
      "  0.13792001 -0.0096727   0.13416    -0.22577     0.24669001 -0.48446\n",
      "  0.85369998  0.011078   -0.0073929   0.029959   -0.12752999  0.027749\n",
      "  0.34970999  0.044611    0.39089999 -0.11507     0.61162001  0.014205\n",
      "  0.086843    0.46529999 -0.78147     0.22697   ]\n",
      "diaspora [-0.26978001  1.13349998  0.15136001  0.17896999  0.24997     0.81094998\n",
      " -0.57552999 -0.91403002  0.57841998  0.044932   -1.38619995 -0.33067\n",
      "  0.23575     0.33687001 -0.39994001 -0.23941     0.030178   -0.23406\n",
      " -0.35473001  0.032478   -0.72997999  0.36079001  0.62168002 -0.25676\n",
      " -0.2678     -0.70832998  0.61281002  0.29964     0.80589002 -0.19403\n",
      " -0.27426001  0.1197     -0.41988999  0.35211     0.12463    -0.92631\n",
      "  0.74435002  1.14230001 -0.11226    -0.16531    -0.65262997  0.13304\n",
      " -0.48201001  0.66426998  0.4337     -1.52709997  0.44598001  0.25887999\n",
      " -0.23052999  0.51086003 -0.42662001  0.52495003  0.43283001 -0.034168\n",
      " -0.71425003 -0.23788001 -0.31661001 -0.44283     0.45179     0.50998002\n",
      " -0.070989    0.25169     0.27320001 -0.87945002  0.71976     0.21644001\n",
      " -0.048181   -0.2387      0.92075998 -0.53467     0.32119    -0.058032\n",
      " -0.60354    -0.34757    -0.15634    -0.060318   -0.67062998  0.38403001\n",
      " -0.12710001  0.29043001 -0.25889999  0.63156003  0.37096     0.77697003\n",
      " -0.21743999 -0.020242   -0.091543   -0.50194001  0.15087999 -0.24601001\n",
      "  0.18229     0.1039      0.17045    -0.85201001 -0.40145999 -0.15678\n",
      "  0.16994999  0.31606999  0.032229    0.50753999]\n",
      "vino [  1.74820006e-01  -7.04249978e-01   1.70969993e-01   4.84169990e-01\n",
      "  -5.99879980e-01   4.84880000e-01   1.12320006e+00   7.05339983e-02\n",
      "   9.90610003e-01   2.58630008e-01   2.20229998e-01  -6.43119991e-01\n",
      "   8.45520012e-03  -6.17049992e-01  -7.36699998e-01   6.55189976e-02\n",
      "   4.79070008e-01   8.58820006e-02   5.84819973e-01   4.91800010e-01\n",
      "   1.52020007e-01   2.59640008e-01  -5.70469975e-01  -5.41509986e-01\n",
      "  -5.21709979e-01   8.64040017e-01  -2.46879995e-01  -1.78739995e-01\n",
      "  -3.67139995e-01  -1.14660001e+00   1.09750004e-02  -7.38170028e-01\n",
      "  -1.06470004e-01   4.53709990e-01   2.63639987e-01   4.11940008e-01\n",
      "   1.22110002e-01  -9.66880023e-02  -1.82459995e-01   4.71800007e-03\n",
      "   2.60770004e-02   1.69410005e-01   4.34920013e-01  -9.64000002e-02\n",
      "   1.91100001e-01   3.65929991e-01  -1.82200000e-01  -1.98489994e-01\n",
      "  -2.87800014e-01  -6.42059967e-02  -3.02210003e-01   1.33969998e+00\n",
      "  -7.24810004e-01  -3.49480003e-01  -1.18750000e+00   1.13709997e-02\n",
      "   2.36460000e-01   5.93780018e-02  -4.08659995e-01  -8.59820023e-02\n",
      "  -2.32790001e-02  -7.76270032e-02  -1.72859997e-01  -9.25519969e-03\n",
      "  -3.61690015e-01   3.57389987e-01  -5.44940010e-02  -3.30960006e-01\n",
      "   3.81260008e-01  -5.41540027e-01   3.70229989e-01   1.23769999e+00\n",
      "  -1.23219997e-01  -3.87849987e-01   2.24600002e-01  -3.89290005e-01\n",
      "  -2.02639997e-01  -2.47199997e-01   1.35450006e-01  -3.93900007e-01\n",
      "   1.91780001e-01  -7.20820010e-01  -9.95769978e-01  -2.73620009e-01\n",
      "   9.88300025e-01   6.85149978e-04  -2.66429991e-01  -1.44269997e-02\n",
      "  -1.69110000e-02  -1.19860001e-01  -5.74679971e-01   8.95349979e-01\n",
      "   7.16539994e-02   2.66999990e-01   1.17279999e-01   5.71280003e-01\n",
      "  -3.66430014e-01  -1.27219999e+00  -2.05200002e-01   3.13989997e-01]\n"
     ]
    }
   ],
   "source": [
    "# show some embeddings\n",
    "k = 0\n",
    "for em, i in embeddings_index.items():\n",
    "    if k < 5:\n",
    "        print(em, i)\n",
    "        k += 1\n"
   ]
  },
  {
   "cell_type": "markdown",
   "metadata": {},
   "source": [
    "#### 2 - Prepare the text data\n",
    "\n",
    "- Iterate over the folders in News dataset, and format them into a list of samples\n",
    "- Prepare a list of class indices matching the samples\n"
   ]
  },
  {
   "cell_type": "code",
   "execution_count": 11,
   "metadata": {
    "collapsed": false
   },
   "outputs": [
    {
     "name": "stdout",
     "output_type": "stream",
     "text": [
      "Processing text dataset\n",
      "Found 19997 texts\n"
     ]
    }
   ],
   "source": [
    "print ('Processing text dataset')\n",
    "\n",
    "texts  = []  # list of text samples\n",
    "labels = []  # list of label IDs\n",
    "labels_index = {}   # dict mapping label name --> numeric ID\n",
    "\n",
    "for name in sorted(os.listdir(TEXT_DATA_DIR)):\n",
    "    path = os.path.join(TEXT_DATA_DIR, name)\n",
    "    \n",
    "    # for each dir\n",
    "    if os.path.isdir(path):\n",
    "        label_id = len(labels_index)\n",
    "        labels_index[name] = label_id\n",
    "        \n",
    "        # for each file in dir\n",
    "        for fname in sorted(os.listdir(path)):\n",
    "            if fname.isdigit():\n",
    "                fpath = os.path.join(path, fname)\n",
    "                \n",
    "                if sys.version_info < (3,):\n",
    "                    f = open(fpath)\n",
    "                else:\n",
    "                    f = open(fpath, encoding='latin-1')\n",
    "                \n",
    "                # read the file, save it\n",
    "                texts.append(f.read())\n",
    "                f.close()\n",
    "                \n",
    "                # save label ID\n",
    "                labels.append(label_id)\n",
    "\n",
    "print('Found %s texts' % len(texts))"
   ]
  },
  {
   "cell_type": "markdown",
   "metadata": {},
   "source": [
    "#### 3 - Vectorize the text samples\n",
    "\n",
    "Use `keras.preprocessing.text.Tokenizer` and `keras.preprocessing.sequence.pad_sequences` to format the text samples and labels into tensors for feeding the conv net."
   ]
  },
  {
   "cell_type": "code",
   "execution_count": 12,
   "metadata": {
    "collapsed": false
   },
   "outputs": [
    {
     "name": "stdout",
     "output_type": "stream",
     "text": [
      "Found 214873 unique tokens\n",
      "Data tensor:  (19997, 1000)\n",
      "Label tensor: (19997, 20)\n"
     ]
    }
   ],
   "source": [
    "tokenizer = Tokenizer(nb_words=MAX_NB_WORDS)\n",
    "tokenizer.fit_on_texts(texts)\n",
    "sequences = tokenizer.texts_to_sequences(texts)\n",
    "\n",
    "# word index\n",
    "word_index = tokenizer.word_index\n",
    "print('Found %s unique tokens' % len(word_index))\n",
    "\n",
    "data = pad_sequences(sequences, maxlen=MAX_SEQUENCE_LENGTH)\n",
    "\n",
    "# convert labels to 1-hot encoding vector\n",
    "labels = to_categorical(np.asarray(labels))\n",
    "\n",
    "print('Data tensor: ', data.shape)\n",
    "print('Label tensor:', labels.shape)"
   ]
  },
  {
   "cell_type": "code",
   "execution_count": 30,
   "metadata": {
    "collapsed": false
   },
   "outputs": [
    {
     "name": "stdout",
     "output_type": "stream",
     "text": [
      "f446 108722\n",
      "untitled 77067\n",
      "shunts 108723\n",
      "troubling 22521\n",
      "snk40uk 108725\n"
     ]
    }
   ],
   "source": [
    "# debug - show word_index\n",
    "m = 0\n",
    "for k,v in word_index.items():\n",
    "    if m < 5:\n",
    "        print(k, v)\n",
    "        m += 1"
   ]
  },
  {
   "cell_type": "code",
   "execution_count": 13,
   "metadata": {
    "collapsed": false
   },
   "outputs": [
    {
     "name": "stdout",
     "output_type": "stream",
     "text": [
      "nb_validation 3999\n",
      "x_train shape (15998, 1000)\n",
      "y_train shape (15998, 20)\n",
      "x_val shape (3999, 1000)\n",
      "y_val shape (3999, 20)\n"
     ]
    }
   ],
   "source": [
    "### Split data into Training / Validation\n",
    "indices = np.arange(data.shape[0])\n",
    "np.random.shuffle(indices)\n",
    "data   = data[indices]\n",
    "labels = labels[indices]\n",
    "\n",
    "nb_validation_samples = int(VALIDATION_SPLIT * data.shape[0])\n",
    "print('nb_validation', nb_validation_samples)\n",
    "\n",
    "x_train  = data[:-nb_validation_samples]\n",
    "y_train  = labels[:-nb_validation_samples]\n",
    "\n",
    "x_val    = data[-nb_validation_samples:]\n",
    "y_val    = labels[-nb_validation_samples:]\n",
    "\n",
    "print('x_train shape', x_train.shape)\n",
    "print('y_train shape', y_train.shape)\n",
    "print('x_val shape', x_val.shape)\n",
    "print('y_val shape', y_val.shape)"
   ]
  },
  {
   "cell_type": "markdown",
   "metadata": {},
   "source": [
    "#### 4 - Prepare Embedding Matrix\n",
    "\n",
    "- leverage our `embedding_index` dictionary and our `word_index` to compute our embedding matrix\n",
    "- load this `embedding matrix` into an `Embedding` layer. Note that we set trainable=False to prevent the weights from being updated during training.\n",
    "\n",
    "An Embedding layer should be fed sequences of integers, i.e. a 2D input of shape `(samples, indices)`. These input sequences should be padded so that they all have the same length in a batch of input data (although an Embedding layer is capable of processing sequence of heterogenous length, if you don't pass an explicit input_length argument to the layer).\n",
    "\n",
    "All that the Embedding layer does is to **map the integer inputs to the vectors found at the corresponding index** in the _embedding matrix_, i.e. the sequence `[1, 2]` would be converted to `[embeddings[1], embeddings[2]]`. This means that the output of the Embedding layer will be a 3D tensor of shape `(samples, sequence_length, embedding_dim)`."
   ]
  },
  {
   "cell_type": "code",
   "execution_count": 15,
   "metadata": {
    "collapsed": false
   },
   "outputs": [
    {
     "name": "stdout",
     "output_type": "stream",
     "text": [
      "Embedding layer: <keras.layers.embeddings.Embedding object at 0x14b400f28>\n"
     ]
    }
   ],
   "source": [
    "nb_words = min(MAX_NB_WORDS, len(word_index))\n",
    "embedding_matrix = np.zeros( (nb_words +1, EMBEDDING_DIM) )\n",
    "\n",
    "for word, i in word_index.items():\n",
    "    if i > MAX_NB_WORDS:\n",
    "        continue\n",
    "        \n",
    "    embedding_vector = embeddings_index.get(word)\n",
    "    if embedding_vector is not None:\n",
    "        # words not found in embedding index will be all-zeros\n",
    "        embedding_matrix[i] = embedding_vector\n",
    "\n",
    "# Now load pre-trained word embeddings into Embedding layer\n",
    "# NOTE: set trainable=False to freeze the layer (i.e. no weight update)\n",
    "\n",
    "embedding_layer = Embedding(nb_words + 1,\n",
    "                            EMBEDDING_DIM,     # this was 100 above\n",
    "                            weights=[embedding_matrix],\n",
    "                            input_length=MAX_SEQUENCE_LENGTH,\n",
    "                            trainable=False)\n",
    "\n",
    "print('Embedding layer:', embedding_layer)"
   ]
  },
  {
   "cell_type": "code",
   "execution_count": 24,
   "metadata": {
    "collapsed": false
   },
   "outputs": [
    {
     "name": "stdout",
     "output_type": "stream",
     "text": [
      "Embedding matrix (20001, 100)\n"
     ]
    },
    {
     "data": {
      "text/plain": [
       "100"
      ]
     },
     "execution_count": 24,
     "metadata": {},
     "output_type": "execute_result"
    }
   ],
   "source": [
    "embedding_layer.name\n",
    "print('Embedding matrix', embedding_matrix.shape)\n",
    "embedding_layer.output_dim"
   ]
  },
  {
   "cell_type": "markdown",
   "metadata": {},
   "source": [
    "### 5 - Train a 1D convolutional net\n",
    "\n",
    "Build a small 1D conv net "
   ]
  },
  {
   "cell_type": "code",
   "execution_count": 31,
   "metadata": {
    "collapsed": false
   },
   "outputs": [
    {
     "name": "stdout",
     "output_type": "stream",
     "text": [
      "____________________________________________________________________________________________________\n",
      "Layer (type)                     Output Shape          Param #     Connected to                     \n",
      "====================================================================================================\n",
      "input_1 (InputLayer)             (None, 1000)          0                                            \n",
      "____________________________________________________________________________________________________\n",
      "embedding_1 (Embedding)          (None, 1000, 100)     0           input_1[0][0]                    \n",
      "____________________________________________________________________________________________________\n",
      "convolution1d_1 (Convolution1D)  (None, 996, 128)      64128       embedding_1[0][0]                \n",
      "____________________________________________________________________________________________________\n",
      "maxpooling1d_1 (MaxPooling1D)    (None, 199, 128)      0           convolution1d_1[0][0]            \n",
      "____________________________________________________________________________________________________\n",
      "convolution1d_2 (Convolution1D)  (None, 195, 128)      82048       maxpooling1d_1[0][0]             \n",
      "____________________________________________________________________________________________________\n",
      "maxpooling1d_2 (MaxPooling1D)    (None, 39, 128)       0           convolution1d_2[0][0]            \n",
      "____________________________________________________________________________________________________\n",
      "convolution1d_3 (Convolution1D)  (None, 35, 128)       82048       maxpooling1d_2[0][0]             \n",
      "____________________________________________________________________________________________________\n",
      "maxpooling1d_3 (MaxPooling1D)    (None, 7, 128)        0           convolution1d_3[0][0]            \n",
      "____________________________________________________________________________________________________\n",
      "flatten_1 (Flatten)              (None, 896)           0           maxpooling1d_3[0][0]             \n",
      "____________________________________________________________________________________________________\n",
      "dense_1 (Dense)                  (None, 128)           114816      flatten_1[0][0]                  \n",
      "____________________________________________________________________________________________________\n",
      "dense_2 (Dense)                  (None, 20)            2580        dense_1[0][0]                    \n",
      "====================================================================================================\n",
      "Total params: 345620\n",
      "____________________________________________________________________________________________________\n"
     ]
    }
   ],
   "source": [
    "sequence_input = Input(shape=(MAX_SEQUENCE_LENGTH,), dtype='float32')\n",
    "\n",
    "embedded_sequences = embedding_layer(sequence_input)\n",
    "\n",
    "# 1D conv net\n",
    "x = Conv1D(128, 5, activation='relu')(embedded_sequences)\n",
    "x = MaxPooling1D(5)(x)\n",
    "x = Conv1D(128, 5, activation='relu')(x)\n",
    "x = MaxPooling1D(5)(x)\n",
    "x = Conv1D(128, 5, activation='relu')(x)\n",
    "x = MaxPooling1D(5)(x)\n",
    "# flatten\n",
    "x = Flatten()(x)\n",
    "x = Dense(128, activation='relu')(x)\n",
    "\n",
    "# now output predictions\n",
    "predictions = Dense(len(labels_index), activation='softmax')(x)\n",
    "\n",
    "model = Model(sequence_input, predictions)\n",
    "# print\n",
    "model.summary()\n",
    "\n",
    "## Compile the model\n",
    "model.compile(loss='categorical_crossentropy',   # bcos we have 20 classes\n",
    "             optimizer='rmsprop',\n",
    "             metrics=['acc'])"
   ]
  },
  {
   "cell_type": "code",
   "execution_count": 32,
   "metadata": {
    "collapsed": false
   },
   "outputs": [
    {
     "name": "stdout",
     "output_type": "stream",
     "text": [
      "Train on 15998 samples, validate on 3999 samples\n",
      "Epoch 1/2\n",
      "15998/15998 [==============================] - 251s - loss: 2.1205 - acc: 0.2822 - val_loss: 0.9944 - val_acc: 0.6157\n",
      "Epoch 2/2\n",
      "15998/15998 [==============================] - 244s - loss: 0.4882 - acc: 0.8311 - val_loss: 0.1853 - val_acc: 0.9375\n"
     ]
    }
   ],
   "source": [
    "### Train the model\n",
    "\n",
    "history = model.fit(x_train,\n",
    "                   y_train,\n",
    "                   validation_data=(x_val, y_val),\n",
    "                   nb_epoch=2,\n",
    "                   batch_size=128)"
   ]
  },
  {
   "cell_type": "code",
   "execution_count": 33,
   "metadata": {
    "collapsed": true
   },
   "outputs": [],
   "source": [
    "## Plot\n",
    "def plot_accuracy(history, model_name='model', y1='acc', y2='val_acc'):\n",
    "    plt.plot(history.history[y1])\n",
    "    plt.plot(history.history[y2])\n",
    "    plt.title(model_name + ' accuracy')\n",
    "    plt.legend(['train', 'val'], loc='upper left')\n",
    "    plt.xlabel('epoch')\n",
    "    plt.ylabel('accuracy')\n",
    "    plt.show()\n",
    "\n",
    "def plot_loss(history, model_name='model', y1='loss', y2='val_loss'):\n",
    "    plt.plot(history.history[y1])\n",
    "    plt.plot(history.history[y2])\n",
    "    plt.title(model_name + ' loss')\n",
    "    plt.legend(['train', 'val'], loc='upper left')\n",
    "    plt.xlabel('epoch')\n",
    "    plt.ylabel('loss')\n",
    "    plt.show()"
   ]
  },
  {
   "cell_type": "code",
   "execution_count": 34,
   "metadata": {
    "collapsed": false
   },
   "outputs": [
    {
     "data": {
      "image/png": "[encoded data removed]",
      "text/plain": [
       "<matplotlib.figure.Figure at 0x14be534a8>"
      ]
     },
     "metadata": {},
     "output_type": "display_data"
    }
   ],
   "source": [
    "plot_accuracy(history, model_name='Pre-trained Glove')"
   ]
  },
  {
   "cell_type": "code",
   "execution_count": 35,
   "metadata": {
    "collapsed": false
   },
   "outputs": [
    {
     "data": {
      "image/png": "[encoded data removed]",
      "text/plain": [
       "<matplotlib.figure.Figure at 0x1375ede80>"
      ]
     },
     "metadata": {},
     "output_type": "display_data"
    }
   ],
   "source": [
    "plot_loss(history, model_name='Pre-trained Glove')"
   ]
  },
  {
   "cell_type": "markdown",
   "metadata": {},
   "source": [
    "We ar able to achieve **~93% validation accuracy** with the pre-trained GloVe word embeddings. Without the pre-trained weights, we would get roughly 85%-90% accuracy."
   ]
  },
  {
   "cell_type": "code",
   "execution_count": null,
   "metadata": {
    "collapsed": true
   },
   "outputs": [],
   "source": []
  }
 ],
 "metadata": {
  "kernelspec": {
   "display_name": "Python 3",
   "language": "python",
   "name": "python3"
  },
  "language_info": {
   "codemirror_mode": {
    "name": "ipython",
    "version": 3
   },
   "file_extension": ".py",
   "mimetype": "text/x-python",
   "name": "python",
   "nbconvert_exporter": "python",
   "pygments_lexer": "ipython3",
   "version": "3.5.2"
  }
 },
 "nbformat": 4,
 "nbformat_minor": 0
}
